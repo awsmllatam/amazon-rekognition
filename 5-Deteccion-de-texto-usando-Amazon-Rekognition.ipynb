{
 "cells": [
  {
   "cell_type": "markdown",
   "id": "66497678",
   "metadata": {},
   "source": [
    "# Deteccion de texto usando Amazon Rekognition"
   ]
  },
  {
   "cell_type": "code",
   "execution_count": null,
   "id": "bfd86670",
   "metadata": {},
   "outputs": [],
   "source": [
    "!conda upgrade -y boto3"
   ]
  },
  {
   "cell_type": "code",
   "execution_count": null,
   "id": "a9bb3a79",
   "metadata": {},
   "outputs": [],
   "source": [
    "import boto3\n",
    "print(boto3.__version__)\n",
    "\n",
    "import botocore\n",
    "print(botocore.__version__)"
   ]
  },
  {
   "cell_type": "code",
   "execution_count": null,
   "id": "4b8aca90",
   "metadata": {},
   "outputs": [],
   "source": [
    "import boto3\n",
    "from IPython.display import HTML, display, Image as IImage\n",
    "from PIL import Image, ImageDraw, ImageFont\n",
    "import time\n",
    "import os"
   ]
  },
  {
   "cell_type": "code",
   "execution_count": null,
   "id": "15aaba56",
   "metadata": {},
   "outputs": [],
   "source": [
    "rekognition = boto3.client('rekognition')\n",
    "s3 = boto3.client('s3')"
   ]
  },
  {
   "cell_type": "code",
   "execution_count": null,
   "id": "8ab07325",
   "metadata": {},
   "outputs": [],
   "source": [
    "bucketName = \"{REPLACE_YOUR_BUCKET}\"\n",
    "imageName = \"media/coffee.jpg\""
   ]
  },
  {
   "cell_type": "code",
   "execution_count": null,
   "id": "df8a57b6",
   "metadata": {},
   "outputs": [],
   "source": [
    "s3.upload_file(\n",
    "    Filename=\"resources/coffee.jpg\",\n",
    "    Bucket=bucketName,\n",
    "    Key=imageName,\n",
    ")"
   ]
  },
  {
   "cell_type": "code",
   "execution_count": null,
   "id": "f0deb70c",
   "metadata": {},
   "outputs": [],
   "source": [
    "detectTextResponse = rekognition.detect_text(\n",
    "    Image={\n",
    "        'S3Object': {\n",
    "            'Bucket': bucketName,\n",
    "            'Name': imageName,\n",
    "        }\n",
    "      },\n",
    "      Filters={\n",
    "        'WordFilter': {\n",
    "            'MinConfidence': 90\n",
    "        }\n",
    "      }\n",
    ")"
   ]
  },
  {
   "cell_type": "code",
   "execution_count": null,
   "id": "87cb1e41",
   "metadata": {},
   "outputs": [],
   "source": [
    "display(detectTextResponse)"
   ]
  },
  {
   "cell_type": "code",
   "execution_count": null,
   "id": "15039791",
   "metadata": {},
   "outputs": [],
   "source": [
    "import string\n",
    "unsafeWords = [\"crap\", \"darn\", \"damm\"]\n",
    "for textDetection in detectTextResponse[\"TextDetections\"]:\n",
    "    # strip punctuation before checking match\n",
    "    text = textDetection[\"DetectedText\"].translate(str.maketrans('', '', string.punctuation))\n",
    "    if(textDetection[\"Type\"] == \"WORD\" and text in unsafeWords):\n",
    "        print(\"Detected unsafe word: {}\".format(textDetection[\"DetectedText\"]))"
   ]
  },
  {
   "cell_type": "code",
   "execution_count": null,
   "id": "9da84d16",
   "metadata": {},
   "outputs": [],
   "source": [
    "def drawBoundingBoxes (sourceImage, boxes):\n",
    "    colors = ((255,255,255),(255,255,255),(76,182,252),(52,194,123))\n",
    "    \n",
    "    imageLocation = 'resources/'+os.path.basename(sourceImage)\n",
    "\n",
    "    bbImage = Image.open(imageLocation)\n",
    "    draw = ImageDraw.Draw(bbImage)\n",
    "    width, height = bbImage.size\n",
    "    col = 0\n",
    "    maxcol = len(colors)\n",
    "    line= 3\n",
    "    for box in boxes:\n",
    "        x1 = int(box[1]['Left'] * width)\n",
    "        y1 = int(box[1]['Top'] * height)\n",
    "        x2 = int(box[1]['Left'] * width + box[1]['Width'] * width)\n",
    "        y2 = int(box[1]['Top'] * height + box[1]['Height']  * height)\n",
    "        \n",
    "        draw.text((x1,y1),box[0],colors[col])\n",
    "        for l in range(line):\n",
    "            draw.rectangle((x1-l,y1-l,x2+l,y2+l),outline=colors[col])\n",
    "        col = (col+1)%maxcol\n",
    "    \n",
    "    imageFormat = \"PNG\"\n",
    "    ext = sourceImage.lower()\n",
    "    if(ext.endswith('jpg') or ext.endswith('jpeg')):\n",
    "        imageFormat = 'JPEG'\n",
    "\n",
    "    bbImage.save(imageLocation,format=imageFormat)\n",
    "\n",
    "    display(bbImage)"
   ]
  },
  {
   "cell_type": "code",
   "execution_count": null,
   "id": "a31f9595",
   "metadata": {},
   "outputs": [],
   "source": [
    "boxes = []\n",
    "textDetections = detectTextResponse['TextDetections']\n",
    "for textDetection in textDetections:\n",
    "        boxes.append ((textDetection['Type'], textDetection[\"Geometry\"]['BoundingBox']))\n",
    "    \n",
    "drawBoundingBoxes(imageName, boxes)"
   ]
  },
  {
   "cell_type": "code",
   "execution_count": null,
   "id": "048e552c",
   "metadata": {},
   "outputs": [],
   "source": []
  }
 ],
 "metadata": {
  "kernelspec": {
   "display_name": "conda_python3",
   "language": "python",
   "name": "conda_python3"
  },
  "language_info": {
   "codemirror_mode": {
    "name": "ipython",
    "version": 3
   },
   "file_extension": ".py",
   "mimetype": "text/x-python",
   "name": "python",
   "nbconvert_exporter": "python",
   "pygments_lexer": "ipython3",
   "version": "3.6.13"
  }
 },
 "nbformat": 4,
 "nbformat_minor": 5
}
