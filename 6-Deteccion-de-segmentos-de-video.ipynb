{
 "cells": [
  {
   "cell_type": "code",
   "execution_count": null,
   "id": "ad93ee1b",
   "metadata": {},
   "outputs": [],
   "source": [
    "import boto3\n",
    "from IPython.display import Image as IImage, display\n",
    "from IPython.display import HTML, display\n",
    "from PIL import Image, ImageDraw, ImageFont\n",
    "import time\n",
    "import os"
   ]
  },
  {
   "cell_type": "code",
   "execution_count": null,
   "id": "f05c06f6",
   "metadata": {},
   "outputs": [],
   "source": [
    "rekognition = boto3.client('rekognition')\n",
    "s3 = boto3.client('s3')"
   ]
  },
  {
   "cell_type": "code",
   "execution_count": null,
   "id": "fde51db0",
   "metadata": {},
   "outputs": [],
   "source": [
    "bucketName = \"{REPLACE_YOUR_BUCKET}\"\n",
    "imageName = \"media/shots_video.mp4\""
   ]
  },
  {
   "cell_type": "code",
   "execution_count": null,
   "id": "6888cbaa",
   "metadata": {},
   "outputs": [],
   "source": [
    "s3.upload_file(\n",
    "    Filename=\"resources/shots_video.mp4\",\n",
    "    Bucket=bucketName,\n",
    "    Key=imageName,\n",
    ")"
   ]
  },
  {
   "cell_type": "code",
   "execution_count": null,
   "id": "fdb26771",
   "metadata": {},
   "outputs": [],
   "source": [
    "\n",
    "videoName = \"media/shots_video.mp4\"\n",
    "s3VideoUrl = s3.generate_presigned_url('get_object', Params={'Bucket': bucketName, 'Key': videoName})\n",
    "videoTag = \"<video controls='controls' width='640' height='360' name='Video' src='{0}'></video>\".format(s3VideoUrl)\n",
    "videoui = \"<table><tr><td style='vertical-align: top'>{}</td></tr></table>\".format(videoTag)\n",
    "display(HTML(videoui))"
   ]
  },
  {
   "cell_type": "code",
   "execution_count": null,
   "id": "762bc37e",
   "metadata": {},
   "outputs": [],
   "source": [
    "startSegmentDetection = rekognition.start_segment_detection(\n",
    "    Video={\n",
    "        'S3Object': {\n",
    "            'Bucket': bucketName,\n",
    "            'Name': videoName,\n",
    "        },\n",
    "    },\n",
    "    SegmentTypes=['SHOT']\n",
    ")\n",
    "\n",
    "segmentationJobId = startSegmentDetection['JobId']\n",
    "display(\"Job Id: {0}\".format(startSegmentDetection))"
   ]
  },
  {
   "cell_type": "code",
   "execution_count": null,
   "id": "ecd43e1f",
   "metadata": {},
   "outputs": [],
   "source": [
    "getSegmentDetection = rekognition.get_segment_detection(\n",
    "    JobId=segmentationJobId\n",
    ")\n",
    "\n",
    "while(getSegmentDetection['JobStatus'] == 'IN_PROGRESS'):\n",
    "    time.sleep(5)\n",
    "    print('.', end='')\n",
    " \n",
    "    getSegmentDetection = rekognition.get_segment_detection(\n",
    "    JobId=segmentationJobId)\n",
    "    \n",
    "display(getSegmentDetection['JobStatus'])"
   ]
  },
  {
   "cell_type": "code",
   "execution_count": null,
   "id": "85cd2828",
   "metadata": {},
   "outputs": [],
   "source": [
    "print(getSegmentDetection)"
   ]
  },
  {
   "cell_type": "code",
   "execution_count": null,
   "id": "9594fc8c",
   "metadata": {},
   "outputs": [],
   "source": [
    "for technicalCue in getSegmentDetection['Segments']:\n",
    "    print(technicalCue)\n",
    "    \n",
    "    frameStartValue = technicalCue['StartTimestampMillis']\n",
    "    #Divide by 1000 to convert from milliseconds to seconds\n",
    "    frameStartValue = frameStartValue/1000.0\n",
    "    \n",
    "    frameEndValue = technicalCue['EndTimestampMillis']\n",
    "    #Divide by 1000 to convert from milliseconds to seconds\n",
    "    frameEndValue = frameEndValue/1000.0\n",
    "    \n",
    "    videoTag = \"<video width='640' controls loop height='360' name='Video' src='{0}{1}{2}{3}{4}'></video>\".format(s3VideoUrl,'#t=',frameStartValue,',',frameEndValue)\n",
    "    videoui = \"<table><tr><td style='vertical-align: top'>{}</td></tr></table>\".format(videoTag)\n",
    "    display(HTML(videoui))"
   ]
  },
  {
   "cell_type": "code",
   "execution_count": null,
   "id": "dc102166",
   "metadata": {},
   "outputs": [],
   "source": []
  }
 ],
 "metadata": {
  "kernelspec": {
   "display_name": "conda_python3",
   "language": "python",
   "name": "conda_python3"
  },
  "language_info": {
   "codemirror_mode": {
    "name": "ipython",
    "version": 3
   },
   "file_extension": ".py",
   "mimetype": "text/x-python",
   "name": "python",
   "nbconvert_exporter": "python",
   "pygments_lexer": "ipython3",
   "version": "3.6.13"
  }
 },
 "nbformat": 4,
 "nbformat_minor": 5
}
