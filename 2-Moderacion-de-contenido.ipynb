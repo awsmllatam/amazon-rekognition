{
 "cells": [
  {
   "cell_type": "markdown",
   "id": "8c4f497a",
   "metadata": {},
   "source": [
    "# Detección de contenido explícito, sugerente y violento con Amazon Rekognition"
   ]
  },
  {
   "cell_type": "code",
   "execution_count": null,
   "id": "3af30e51",
   "metadata": {},
   "outputs": [],
   "source": [
    "import boto3\n",
    "from IPython.display import Image as IImage, display\n",
    "from IPython.display import HTML, display\n",
    "from PIL import Image, ImageDraw, ImageFont\n",
    "import time\n",
    "import os"
   ]
  },
  {
   "cell_type": "code",
   "execution_count": null,
   "id": "28d6ad68",
   "metadata": {},
   "outputs": [],
   "source": [
    "rekognition = boto3.client('rekognition')\n",
    "s3 = boto3.client('s3')"
   ]
  },
  {
   "cell_type": "code",
   "execution_count": null,
   "id": "44685770",
   "metadata": {},
   "outputs": [],
   "source": [
    "bucketName = \"{REPLACE_YOUR_BUCKET}\"\n",
    "imageName = \"media/yoga_swimwear_resized.jpg\""
   ]
  },
  {
   "cell_type": "code",
   "execution_count": null,
   "id": "af2d0edb",
   "metadata": {},
   "outputs": [],
   "source": [
    "s3.upload_file(\n",
    "    Filename=\"resources/yoga_swimwear_resized.jpg\",\n",
    "    Bucket=bucketName,\n",
    "    Key=imageName,\n",
    ")"
   ]
  },
  {
   "cell_type": "code",
   "execution_count": null,
   "id": "1f21129e",
   "metadata": {},
   "outputs": [],
   "source": [
    "display(IImage(url=s3.generate_presigned_url('get_object', Params={'Bucket': bucketName, 'Key': imageName})))"
   ]
  },
  {
   "cell_type": "code",
   "execution_count": null,
   "id": "27166eb2",
   "metadata": {},
   "outputs": [],
   "source": [
    "detectModerationLabelsResponse = rekognition.detect_moderation_labels(\n",
    "   Image={\n",
    "       'S3Object': {\n",
    "           'Bucket': bucketName,\n",
    "           'Name': imageName,\n",
    "       }\n",
    "   }\n",
    ")"
   ]
  },
  {
   "cell_type": "code",
   "execution_count": null,
   "id": "5f893128",
   "metadata": {},
   "outputs": [],
   "source": [
    "display(detectModerationLabelsResponse)"
   ]
  },
  {
   "cell_type": "code",
   "execution_count": null,
   "id": "45026b0b",
   "metadata": {},
   "outputs": [],
   "source": [
    "for label in detectModerationLabelsResponse[\"ModerationLabels\"]:\n",
    "    print(\"- {} (Confidence: {})\".format(label[\"Name\"], label[\"Confidence\"]))\n",
    "    print(\"  - Parent: {}\".format(label[\"ParentName\"]))"
   ]
  },
  {
   "cell_type": "markdown",
   "id": "b5fc9feb",
   "metadata": {},
   "source": [
    "# Moderacion de contenido en videos"
   ]
  },
  {
   "cell_type": "code",
   "execution_count": null,
   "id": "f26b4056",
   "metadata": {},
   "outputs": [],
   "source": [
    "bucketName = \"temporal-bucket-max\"\n",
    "videoName = \"media/moderation.mov\""
   ]
  },
  {
   "cell_type": "code",
   "execution_count": null,
   "id": "3e6a8ea9",
   "metadata": {},
   "outputs": [],
   "source": [
    "s3.upload_file(\n",
    "    Filename=\"resources/moderation.mov\",\n",
    "    Bucket=bucketName,\n",
    "    Key=videoName,\n",
    ")"
   ]
  },
  {
   "cell_type": "code",
   "execution_count": null,
   "id": "688436f5",
   "metadata": {},
   "outputs": [],
   "source": [
    "s3VideoUrl = s3.generate_presigned_url('get_object', Params={'Bucket': bucketName, 'Key': videoName})\n",
    "\n",
    "videoTag = \"<video controls='controls' autoplay width='640' height='360' name='Video' src='{0}'></video>\".format(s3VideoUrl)\n",
    "\n",
    "videoui = \"<table><tr><td style='vertical-align: top'>{}</td></tr></table>\".format(videoTag)\n",
    "\n",
    "display(HTML(videoui))"
   ]
  },
  {
   "cell_type": "code",
   "execution_count": null,
   "id": "8dab7c08",
   "metadata": {},
   "outputs": [],
   "source": [
    "startModerationLabelDetection = rekognition.start_content_moderation(\n",
    "    Video={\n",
    "        'S3Object': {\n",
    "            'Bucket': bucketName,\n",
    "            'Name': videoName,\n",
    "        }\n",
    "    },\n",
    ")\n",
    "\n",
    "moderationJobId = startModerationLabelDetection['JobId']\n",
    "display(\"Job Id: {0}\".format(moderationJobId))"
   ]
  },
  {
   "cell_type": "code",
   "execution_count": null,
   "id": "0d4858e5",
   "metadata": {},
   "outputs": [],
   "source": [
    "getContentModeration = rekognition.get_content_moderation(\n",
    "    JobId=moderationJobId,\n",
    "    SortBy='TIMESTAMP'\n",
    ")\n",
    "\n",
    "while(getContentModeration['JobStatus'] == 'IN_PROGRESS'):\n",
    "    time.sleep(5)\n",
    "    print('.', end='')\n",
    " \n",
    "    getContentModeration = rekognition.get_content_moderation(\n",
    "    JobId=moderationJobId,\n",
    "    SortBy='TIMESTAMP')\n",
    "    \n",
    "display(getContentModeration['JobStatus'])"
   ]
  },
  {
   "cell_type": "code",
   "execution_count": null,
   "id": "236022f8",
   "metadata": {},
   "outputs": [],
   "source": [
    "theObjects = {}\n",
    "\n",
    "strDetail = \"Moderation labels in video<br>=======================================<br>\"\n",
    "strOverall = \"Moderation labels in the overall video:<br>=======================================<br>\"\n",
    "\n",
    "for obj in getContentModeration['ModerationLabels']:\n",
    "    ts = obj [\"Timestamp\"]\n",
    "    cconfidence = obj['ModerationLabel'][\"Confidence\"]\n",
    "    oname = obj['ModerationLabel'][\"Name\"]\n",
    "    strDetail = strDetail + \"At {} ms: {} (Confidence: {})<br>\".format(ts, oname, round(cconfidence,2))\n",
    "    if oname in theObjects:\n",
    "        cojb = theObjects[oname]\n",
    "        theObjects[oname] = {\"Name\" : oname, \"Count\": 1+cojb[\"Count\"]}\n",
    "    else:\n",
    "        theObjects[oname] = {\"Name\" : oname, \"Count\": 1}\n",
    "\n",
    "for theObject in theObjects:\n",
    "    strOverall = strOverall + \"Name: {}, Count: {}<br>\".format(theObject, theObjects[theObject][\"Count\"])\n",
    "\n",
    "display(HTML(strOverall))\n",
    "display(HTML(strDetail))"
   ]
  },
  {
   "cell_type": "code",
   "execution_count": null,
   "id": "bd8bc5bb",
   "metadata": {},
   "outputs": [],
   "source": [
    "listui = \"<table><tr><td style='vertical-align: top'>{}</td></tr></table>\".format(strDetail)\n",
    "display(HTML(listui))"
   ]
  },
  {
   "cell_type": "code",
   "execution_count": null,
   "id": "6c1e64b7",
   "metadata": {},
   "outputs": [],
   "source": []
  }
 ],
 "metadata": {
  "kernelspec": {
   "display_name": "conda_python3",
   "language": "python",
   "name": "conda_python3"
  },
  "language_info": {
   "codemirror_mode": {
    "name": "ipython",
    "version": 3
   },
   "file_extension": ".py",
   "mimetype": "text/x-python",
   "name": "python",
   "nbconvert_exporter": "python",
   "pygments_lexer": "ipython3",
   "version": "3.6.13"
  }
 },
 "nbformat": 4,
 "nbformat_minor": 5
}
