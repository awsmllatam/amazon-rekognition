{
 "cells": [
  {
   "cell_type": "markdown",
   "id": "ae0717f2",
   "metadata": {},
   "source": [
    "# Reconocimiento personalizado de celebridades usando Amazon Rekognition"
   ]
  },
  {
   "cell_type": "code",
   "execution_count": null,
   "id": "a739c3fd",
   "metadata": {},
   "outputs": [],
   "source": [
    "import boto3\n",
    "from IPython.display import HTML, display, Image as IImage\n",
    "from PIL import Image, ImageDraw, ImageFont\n",
    "import time\n",
    "import os\n",
    "from io import BytesIO"
   ]
  },
  {
   "cell_type": "code",
   "execution_count": null,
   "id": "a9dd0534",
   "metadata": {},
   "outputs": [],
   "source": [
    "rekognition = boto3.client('rekognition')\n",
    "dynamodb = boto3.client('dynamodb')\n",
    "s3 = boto3.client('s3')"
   ]
  },
  {
   "cell_type": "markdown",
   "id": "29324d71",
   "metadata": {},
   "source": [
    "## DynamoDB table to store custom celebrity metadata"
   ]
  },
  {
   "cell_type": "code",
   "execution_count": null,
   "id": "b80f4f4a",
   "metadata": {},
   "outputs": [],
   "source": [
    "ddbTableName = \"my-celebrities\"\n",
    "collectionId = \"my-celebrities\""
   ]
  },
  {
   "cell_type": "code",
   "execution_count": null,
   "id": "86911a3d",
   "metadata": {},
   "outputs": [],
   "source": [
    "listTablesResponse = dynamodb.list_tables()\n",
    "display(listTablesResponse[\"TableNames\"])"
   ]
  },
  {
   "cell_type": "code",
   "execution_count": null,
   "id": "65b26e9e",
   "metadata": {},
   "outputs": [],
   "source": [
    "createTableResponse = dynamodb.create_table(\n",
    "    TableName=ddbTableName,\n",
    "    KeySchema=[\n",
    "        {\n",
    "            'AttributeName': 'id',\n",
    "            'KeyType': 'HASH'\n",
    "        }\n",
    "    ],\n",
    "    AttributeDefinitions=[\n",
    "        {\n",
    "            'AttributeName': 'id',\n",
    "            'AttributeType': 'S'\n",
    "        },\n",
    "\n",
    "    ],\n",
    "    BillingMode='PAY_PER_REQUEST'\n",
    ")\n",
    "\n",
    "display(createTableResponse)"
   ]
  },
  {
   "cell_type": "code",
   "execution_count": null,
   "id": "5cf90706",
   "metadata": {},
   "outputs": [],
   "source": [
    "listTablesResponse = dynamodb.list_tables()\n",
    "display(listTablesResponse[\"TableNames\"])"
   ]
  },
  {
   "cell_type": "markdown",
   "id": "efdd2f8c",
   "metadata": {},
   "source": [
    "## Rekogniton Collection para almacenar rostros"
   ]
  },
  {
   "cell_type": "code",
   "execution_count": null,
   "id": "a03eba7e",
   "metadata": {},
   "outputs": [],
   "source": [
    "listCollectionsResponse = rekognition.list_collections()\n",
    "display(listCollectionsResponse[\"CollectionIds\"])\n",
    "display(listCollectionsResponse[\"FaceModelVersions\"])"
   ]
  },
  {
   "cell_type": "code",
   "execution_count": null,
   "id": "1a9312d8",
   "metadata": {},
   "outputs": [],
   "source": [
    "createCollectionResponse = rekognition.create_collection(\n",
    "    CollectionId=collectionId\n",
    ")\n",
    "display(createCollectionResponse)"
   ]
  },
  {
   "cell_type": "code",
   "execution_count": null,
   "id": "b847f7a1",
   "metadata": {},
   "outputs": [],
   "source": [
    "listCollectionsResponse = rekognition.list_collections()\n",
    "\n",
    "display(listCollectionsResponse[\"CollectionIds\"])\n",
    "display(listCollectionsResponse[\"FaceModelVersions\"])"
   ]
  },
  {
   "cell_type": "code",
   "execution_count": null,
   "id": "c6c3043a",
   "metadata": {},
   "outputs": [],
   "source": [
    "describeCollectionResponse = rekognition.describe_collection(\n",
    "    CollectionId=collectionId\n",
    ")\n",
    "display(describeCollectionResponse)"
   ]
  },
  {
   "cell_type": "markdown",
   "id": "bae9d90a",
   "metadata": {},
   "source": [
    "# Indexacion de rostros de celebridades personalizado"
   ]
  },
  {
   "cell_type": "code",
   "execution_count": null,
   "id": "0085e11a",
   "metadata": {},
   "outputs": [],
   "source": [
    "bucketName = \"{REPLACE_YOUR_BUCKET}\"\n",
    "s3.upload_file(\n",
    "    Filename=\"resources/kashif01.jpg\",\n",
    "    Bucket=bucketName,\n",
    "    Key=\"media/kashif01.jpg\",\n",
    ")\n",
    "s3.upload_file(\n",
    "    Filename=\"resources/kashif02.jpg\",\n",
    "    Bucket=bucketName,\n",
    "    Key=\"media/kashif02.jpg\",\n",
    ")\n",
    "s3.upload_file(\n",
    "    Filename=\"resources/kashif03.jpg\",\n",
    "    Bucket=bucketName,\n",
    "    Key=\"media/kashif03.jpg\",\n",
    ")\n",
    "s3.upload_file(\n",
    "    Filename=\"resources/chris01.png\",\n",
    "    Bucket=bucketName,\n",
    "    Key=\"media/chris01.png\",\n",
    ")\n",
    "s3.upload_file(\n",
    "    Filename=\"resources/chris02.png\",\n",
    "    Bucket=bucketName,\n",
    "    Key=\"media/chris02.png\",\n",
    ")\n",
    "s3.upload_file(\n",
    "    Filename=\"resources/chris03.png\",\n",
    "    Bucket=bucketName,\n",
    "    Key=\"media/chris03.png\",\n",
    ")\n"
   ]
  },
  {
   "cell_type": "code",
   "execution_count": null,
   "id": "b66f677a",
   "metadata": {},
   "outputs": [],
   "source": [
    "def indexFace (bucketName, imageName, celebrityId):\n",
    "\n",
    "    indexFaceResponse = rekognition.index_faces(\n",
    "        CollectionId=collectionId,\n",
    "        Image={\n",
    "            'S3Object': {\n",
    "                'Bucket': bucketName,\n",
    "                'Name': imageName,\n",
    "            }\n",
    "        },\n",
    "        ExternalImageId=celebrityId,\n",
    "        DetectionAttributes=[\n",
    "            'DEFAULT' #'DEFAULT'|'ALL',\n",
    "        ],\n",
    "        MaxFaces=1,\n",
    "        QualityFilter='AUTO' #NONE | AUTO | LOW | MEDIUM | HIGH\n",
    "    )\n",
    "    \n",
    "    display(indexFaceResponse)\n",
    "\n",
    "def addCelebrityToDynamoDB(celebrityId, celebrityName, celebrityUrl):\n",
    "    ddbPutItemResponse = dynamodb.put_item(\n",
    "        Item={\n",
    "            'id': {'S': celebrityId},\n",
    "            'name': {'S': celebrityName},\n",
    "            'url': { 'S': celebrityUrl},\n",
    "        },\n",
    "        TableName=ddbTableName,\n",
    "    )"
   ]
  },
  {
   "cell_type": "code",
   "execution_count": null,
   "id": "0401ab10",
   "metadata": {},
   "outputs": [],
   "source": [
    "# Indexacion de la celebridad 1\n",
    "celebrityId = \"1\"\n",
    "celebrityName = \"Chris Munns\"\n",
    "celebrityUrl = \"http://www.amazon.com\""
   ]
  },
  {
   "cell_type": "code",
   "execution_count": null,
   "id": "a44ca462",
   "metadata": {},
   "outputs": [],
   "source": [
    "addCelebrityToDynamoDB(celebrityId, celebrityName, celebrityUrl)"
   ]
  },
  {
   "cell_type": "code",
   "execution_count": null,
   "id": "b745413b",
   "metadata": {},
   "outputs": [],
   "source": [
    "display(IImage(url=s3.generate_presigned_url('get_object', Params={'Bucket': bucketName, 'Key': \"media/chris01.png\"})))"
   ]
  },
  {
   "cell_type": "code",
   "execution_count": null,
   "id": "912a03a2",
   "metadata": {},
   "outputs": [],
   "source": [
    "indexFace(bucketName, \"media/chris01.png\", celebrityId)"
   ]
  },
  {
   "cell_type": "code",
   "execution_count": null,
   "id": "e66e76d4",
   "metadata": {},
   "outputs": [],
   "source": [
    "display(IImage(url=s3.generate_presigned_url('get_object', Params={'Bucket': bucketName, 'Key': \"media/chris02.png\"})))"
   ]
  },
  {
   "cell_type": "code",
   "execution_count": null,
   "id": "91414f64",
   "metadata": {},
   "outputs": [],
   "source": [
    "indexFace(bucketName, \"media/chris02.png\", celebrityId)"
   ]
  },
  {
   "cell_type": "code",
   "execution_count": null,
   "id": "56af0408",
   "metadata": {},
   "outputs": [],
   "source": [
    "display(IImage(url=s3.generate_presigned_url('get_object', Params={'Bucket': bucketName, 'Key': \"media/chris03.png\"})))"
   ]
  },
  {
   "cell_type": "code",
   "execution_count": null,
   "id": "cff4d590",
   "metadata": {},
   "outputs": [],
   "source": [
    "indexFace(bucketName, \"media/chris03.png\", celebrityId)"
   ]
  },
  {
   "cell_type": "code",
   "execution_count": null,
   "id": "d4f2d1f3",
   "metadata": {},
   "outputs": [],
   "source": [
    "describeCollectionResponse = rekognition.describe_collection(\n",
    "    CollectionId=collectionId\n",
    ")\n",
    "display(\"FaceCount: {0}\".format(describeCollectionResponse[\"FaceCount\"]))"
   ]
  },
  {
   "cell_type": "code",
   "execution_count": null,
   "id": "b9656828",
   "metadata": {},
   "outputs": [],
   "source": [
    "# Indexacion de la celebridad 2\n",
    "celebrityId = \"2\"\n",
    "celebrityName = \"Kashif Imran\"\n",
    "celebrityUrl = \"http://aws.amazon.com\""
   ]
  },
  {
   "cell_type": "code",
   "execution_count": null,
   "id": "c2a696ea",
   "metadata": {},
   "outputs": [],
   "source": [
    "addCelebrityToDynamoDB(celebrityId, celebrityName, celebrityUrl)"
   ]
  },
  {
   "cell_type": "code",
   "execution_count": null,
   "id": "96da3042",
   "metadata": {},
   "outputs": [],
   "source": [
    "display(IImage(url=s3.generate_presigned_url('get_object', Params={'Bucket': bucketName, 'Key': \"media/kashif01.jpg\"})))"
   ]
  },
  {
   "cell_type": "code",
   "execution_count": null,
   "id": "f5e063c8",
   "metadata": {},
   "outputs": [],
   "source": [
    "indexFace(bucketName, \"media/kashif01.jpg\", celebrityId)"
   ]
  },
  {
   "cell_type": "code",
   "execution_count": null,
   "id": "6d5e0d1a",
   "metadata": {},
   "outputs": [],
   "source": [
    "display(IImage(url=s3.generate_presigned_url('get_object', Params={'Bucket': bucketName, 'Key': \"media/kashif02.jpg\"})))"
   ]
  },
  {
   "cell_type": "code",
   "execution_count": null,
   "id": "f1f47262",
   "metadata": {},
   "outputs": [],
   "source": [
    "indexFace(bucketName, \"media/kashif02.jpg\", celebrityId)"
   ]
  },
  {
   "cell_type": "code",
   "execution_count": null,
   "id": "85bb4371",
   "metadata": {},
   "outputs": [],
   "source": [
    "display(IImage(url=s3.generate_presigned_url('get_object', Params={'Bucket': bucketName, 'Key': \"media/kashif03.jpg\"})))"
   ]
  },
  {
   "cell_type": "code",
   "execution_count": null,
   "id": "ca4bbad5",
   "metadata": {},
   "outputs": [],
   "source": [
    "indexFace(bucketName, \"media/kashif03.jpg\", celebrityId)"
   ]
  },
  {
   "cell_type": "code",
   "execution_count": null,
   "id": "87c11985",
   "metadata": {},
   "outputs": [],
   "source": [
    "describeCollectionResponse = rekognition.describe_collection(\n",
    "    CollectionId=collectionId\n",
    ")\n",
    "display(\"FaceCount: {0}\".format(describeCollectionResponse[\"FaceCount\"]))"
   ]
  },
  {
   "cell_type": "code",
   "execution_count": null,
   "id": "426de352",
   "metadata": {},
   "outputs": [],
   "source": [
    "# Subimos la imagen a reconocer\n",
    "imageName='media/serverless-bytes.png'\n",
    "s3.upload_file(\n",
    "    Filename=\"resources/serverless-bytes.png\",\n",
    "    Bucket=bucketName,\n",
    "    Key=imageName,\n",
    ")"
   ]
  },
  {
   "cell_type": "code",
   "execution_count": null,
   "id": "8a04e79e",
   "metadata": {},
   "outputs": [],
   "source": [
    "searchFacesResponse = rekognition.search_faces_by_image(\n",
    "    CollectionId=collectionId,\n",
    "    Image={\n",
    "        'S3Object': {\n",
    "            'Bucket': bucketName,\n",
    "            'Name': imageName,\n",
    "        }\n",
    "    },\n",
    "    MaxFaces=2,\n",
    "    FaceMatchThreshold=95\n",
    ")"
   ]
  },
  {
   "cell_type": "code",
   "execution_count": null,
   "id": "0a13a465",
   "metadata": {},
   "outputs": [],
   "source": [
    "display(searchFacesResponse)"
   ]
  },
  {
   "cell_type": "code",
   "execution_count": null,
   "id": "3d258004",
   "metadata": {},
   "outputs": [],
   "source": [
    "def displayWithBoundingBoxes (sourceImage, boxes):\n",
    "    colors = ((220,220,220),(230,230,230),(76,182,252),(52,194,123))\n",
    "    \n",
    "    imageLocation = 'resources/'+os.path.basename(sourceImage)\n",
    "\n",
    "    bbImage = Image.open(imageLocation)\n",
    "    draw = ImageDraw.Draw(bbImage)\n",
    "    width, height = bbImage.size\n",
    "    col = 0\n",
    "    maxcol = len(colors)\n",
    "    line= 3\n",
    "    for box in boxes:\n",
    "        x1 = int(box[1]['Left'] * width)\n",
    "        y1 = int(box[1]['Top'] * height)\n",
    "        x2 = int(box[1]['Left'] * width + box[1]['Width'] * width)\n",
    "        y2 = int(box[1]['Top'] * height + box[1]['Height']  * height)\n",
    "        \n",
    "        draw.text((x1,y1),box[0],colors[col])\n",
    "        for l in range(line):\n",
    "            draw.rectangle((x1-l,y1-l,x2+l,y2+l),outline=colors[col])\n",
    "        col = (col+1)%maxcol\n",
    "    \n",
    "    imageFormat = \"PNG\"\n",
    "    ext = sourceImage.lower()\n",
    "    if(ext.endswith('jpg') or ext.endswith('jpeg')):\n",
    "       imageFormat = 'JPEG'\n",
    "\n",
    "    bbImage.save(imageLocation,format=imageFormat)\n",
    "\n",
    "    display(bbImage)\n",
    "    \n",
    "def getDynamoDBItem(itemId):\n",
    "    ddbGetItemResponse = dynamodb.get_item(\n",
    "        Key={'id': {'S': itemId} },\n",
    "        TableName=ddbTableName\n",
    "    )\n",
    "    \n",
    "    itemToReturn = ('', '', '')\n",
    "    \n",
    "    if('Item' in ddbGetItemResponse):\n",
    "        itemToReturn = (ddbGetItemResponse['Item']['id']['S'], \n",
    "                ddbGetItemResponse['Item']['name']['S'],\n",
    "                ddbGetItemResponse['Item']['url']['S'])\n",
    "    \n",
    "    return itemToReturn"
   ]
  },
  {
   "cell_type": "code",
   "execution_count": null,
   "id": "c247d06f",
   "metadata": {},
   "outputs": [],
   "source": [
    "def displaySearchedFace(sfr):  \n",
    "\n",
    "    boxes = []\n",
    "    \n",
    "    if(len(sfr['FaceMatches']) > 0):\n",
    "        bb = sfbb = sfr['SearchedFaceBoundingBox']\n",
    "        eid = sfr['FaceMatches'][0]['Face']['ExternalImageId']\n",
    "        conf = sfr['FaceMatches'][0]['Similarity']\n",
    "\n",
    "        celeb = getDynamoDBItem(eid)\n",
    "\n",
    "        boxes.append((\"{0}-{1}-{2}%\".format(celeb[0], celeb[1], round(conf,2)), bb))\n",
    "\n",
    "        displayWithBoundingBoxes(imageName, boxes)\n",
    "\n",
    "displaySearchedFace(searchFacesResponse)"
   ]
  }
 ],
 "metadata": {
  "kernelspec": {
   "display_name": "conda_python3",
   "language": "python",
   "name": "conda_python3"
  },
  "language_info": {
   "codemirror_mode": {
    "name": "ipython",
    "version": 3
   },
   "file_extension": ".py",
   "mimetype": "text/x-python",
   "name": "python",
   "nbconvert_exporter": "python",
   "pygments_lexer": "ipython3",
   "version": "3.6.13"
  }
 },
 "nbformat": 4,
 "nbformat_minor": 5
}
