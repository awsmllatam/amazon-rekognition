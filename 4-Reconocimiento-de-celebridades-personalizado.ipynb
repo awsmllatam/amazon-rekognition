{
 "cells": [
  {
   "cell_type": "markdown",
   "id": "a584a890",
   "metadata": {},
   "source": [
    "# Reconocimiento personalizado de celebridades usando Amazon Rekognition"
   ]
  },
  {
   "cell_type": "code",
   "execution_count": null,
   "id": "83c5a0e5",
   "metadata": {},
   "outputs": [],
   "source": [
    "import boto3\n",
    "from IPython.display import HTML, display, Image as IImage\n",
    "from PIL import Image, ImageDraw, ImageFont\n",
    "import time\n",
    "import os\n",
    "from io import BytesIO"
   ]
  },
  {
   "cell_type": "code",
   "execution_count": null,
   "id": "46582639",
   "metadata": {},
   "outputs": [],
   "source": [
    "rekognition = boto3.client('rekognition')\n",
    "dynamodb = boto3.client('dynamodb')\n",
    "s3 = boto3.client('s3')"
   ]
  },
  {
   "cell_type": "markdown",
   "id": "f40de626",
   "metadata": {},
   "source": [
    "## DynamoDB table to store custom celebrity metadata"
   ]
  },
  {
   "cell_type": "code",
   "execution_count": null,
   "id": "008ce448",
   "metadata": {},
   "outputs": [],
   "source": [
    "ddbTableName = \"my-celebrities\"\n",
    "collectionId = \"my-celebrities\""
   ]
  },
  {
   "cell_type": "code",
   "execution_count": null,
   "id": "32377560",
   "metadata": {},
   "outputs": [],
   "source": [
    "listTablesResponse = dynamodb.list_tables()\n",
    "display(listTablesResponse[\"TableNames\"])"
   ]
  },
  {
   "cell_type": "code",
   "execution_count": null,
   "id": "c8fc1436",
   "metadata": {},
   "outputs": [],
   "source": [
    "createTableResponse = dynamodb.create_table(\n",
    "    TableName=ddbTableName,\n",
    "    KeySchema=[\n",
    "        {\n",
    "            'AttributeName': 'id',\n",
    "            'KeyType': 'HASH'\n",
    "        }\n",
    "    ],\n",
    "    AttributeDefinitions=[\n",
    "        {\n",
    "            'AttributeName': 'id',\n",
    "            'AttributeType': 'S'\n",
    "        },\n",
    "\n",
    "    ],\n",
    "    BillingMode='PAY_PER_REQUEST'\n",
    ")\n",
    "\n",
    "display(createTableResponse)"
   ]
  },
  {
   "cell_type": "code",
   "execution_count": null,
   "id": "7e677f9f",
   "metadata": {},
   "outputs": [],
   "source": [
    "listTablesResponse = dynamodb.list_tables()\n",
    "display(listTablesResponse[\"TableNames\"])"
   ]
  },
  {
   "cell_type": "markdown",
   "id": "b9674bd4",
   "metadata": {},
   "source": [
    "## Rekogniton Collection para almacenar rostros"
   ]
  },
  {
   "cell_type": "code",
   "execution_count": null,
   "id": "21d552c7",
   "metadata": {},
   "outputs": [],
   "source": [
    "listCollectionsResponse = rekognition.list_collections()\n",
    "display(listCollectionsResponse[\"CollectionIds\"])\n",
    "display(listCollectionsResponse[\"FaceModelVersions\"])"
   ]
  },
  {
   "cell_type": "code",
   "execution_count": null,
   "id": "8f5ce455",
   "metadata": {},
   "outputs": [],
   "source": [
    "createCollectionResponse = rekognition.create_collection(\n",
    "    CollectionId=collectionId\n",
    ")\n",
    "display(createCollectionResponse)"
   ]
  },
  {
   "cell_type": "code",
   "execution_count": null,
   "id": "3d39e99d",
   "metadata": {},
   "outputs": [],
   "source": [
    "listCollectionsResponse = rekognition.list_collections()\n",
    "\n",
    "display(listCollectionsResponse[\"CollectionIds\"])\n",
    "display(listCollectionsResponse[\"FaceModelVersions\"])"
   ]
  },
  {
   "cell_type": "code",
   "execution_count": null,
   "id": "2be05800",
   "metadata": {},
   "outputs": [],
   "source": [
    "describeCollectionResponse = rekognition.describe_collection(\n",
    "    CollectionId=collectionId\n",
    ")\n",
    "display(describeCollectionResponse)"
   ]
  },
  {
   "cell_type": "markdown",
   "id": "e20682ac",
   "metadata": {},
   "source": [
    "# Indexacion de rostros de celebridades personalizado"
   ]
  },
  {
   "cell_type": "code",
   "execution_count": null,
   "id": "08422774",
   "metadata": {},
   "outputs": [],
   "source": [
    "bucketName = \"{REPLACE_YOUR_BUCKET}\"\n",
    "s3.upload_file(\n",
    "    Filename=\"resources/kashif01.jpg\",\n",
    "    Bucket=bucketName,\n",
    "    Key=\"media/kashif01.jpg\",\n",
    ")\n",
    "s3.upload_file(\n",
    "    Filename=\"resources/kashif02.jpg\",\n",
    "    Bucket=bucketName,\n",
    "    Key=\"media/kashif02.jpg\",\n",
    ")\n",
    "s3.upload_file(\n",
    "    Filename=\"resources/kashif03.jpg\",\n",
    "    Bucket=bucketName,\n",
    "    Key=\"media/kashif03.jpg\",\n",
    ")\n",
    "s3.upload_file(\n",
    "    Filename=\"resources/chris01.png\",\n",
    "    Bucket=bucketName,\n",
    "    Key=\"media/chris01.png\",\n",
    ")\n",
    "s3.upload_file(\n",
    "    Filename=\"resources/chris02.png\",\n",
    "    Bucket=bucketName,\n",
    "    Key=\"media/chris02.png\",\n",
    ")\n",
    "s3.upload_file(\n",
    "    Filename=\"resources/chris03.png\",\n",
    "    Bucket=bucketName,\n",
    "    Key=\"media/chris03.png\",\n",
    ")\n"
   ]
  },
  {
   "cell_type": "code",
   "execution_count": null,
   "id": "35ac5ed1",
   "metadata": {},
   "outputs": [],
   "source": [
    "def indexFace (bucketName, imageName, celebrityId):\n",
    "\n",
    "    indexFaceResponse = rekognition.index_faces(\n",
    "        CollectionId=collectionId,\n",
    "        Image={\n",
    "            'S3Object': {\n",
    "                'Bucket': bucketName,\n",
    "                'Name': imageName,\n",
    "            }\n",
    "        },\n",
    "        ExternalImageId=celebrityId,\n",
    "        DetectionAttributes=[\n",
    "            'DEFAULT' #'DEFAULT'|'ALL',\n",
    "        ],\n",
    "        MaxFaces=1,\n",
    "        QualityFilter='AUTO' #NONE | AUTO | LOW | MEDIUM | HIGH\n",
    "    )\n",
    "    \n",
    "    display(indexFaceResponse)\n",
    "\n",
    "def addCelebrityToDynamoDB(celebrityId, celebrityName, celebrityUrl):\n",
    "    ddbPutItemResponse = dynamodb.put_item(\n",
    "        Item={\n",
    "            'id': {'S': celebrityId},\n",
    "            'name': {'S': celebrityName},\n",
    "            'url': { 'S': celebrityUrl},\n",
    "        },\n",
    "        TableName=ddbTableName,\n",
    "    )"
   ]
  },
  {
   "cell_type": "code",
   "execution_count": null,
   "id": "d8d45e77",
   "metadata": {},
   "outputs": [],
   "source": [
    "# Indexacion de la celebridad 1\n",
    "celebrityId = \"1\"\n",
    "celebrityName = \"Chris Munns\"\n",
    "celebrityUrl = \"http://www.amazon.com\""
   ]
  },
  {
   "cell_type": "code",
   "execution_count": null,
   "id": "fbbefe9c",
   "metadata": {},
   "outputs": [],
   "source": [
    "addCelebrityToDynamoDB(celebrityId, celebrityName, celebrityUrl)"
   ]
  },
  {
   "cell_type": "code",
   "execution_count": null,
   "id": "1da4832a",
   "metadata": {},
   "outputs": [],
   "source": [
    "display(IImage(url=s3.generate_presigned_url('get_object', Params={'Bucket': bucketName, 'Key': \"media/chris01.png\"})))"
   ]
  },
  {
   "cell_type": "code",
   "execution_count": null,
   "id": "f2800a2a",
   "metadata": {},
   "outputs": [],
   "source": [
    "indexFace(bucketName, \"media/chris01.png\", celebrityId)"
   ]
  },
  {
   "cell_type": "code",
   "execution_count": null,
   "id": "a9e22c38",
   "metadata": {},
   "outputs": [],
   "source": [
    "display(IImage(url=s3.generate_presigned_url('get_object', Params={'Bucket': bucketName, 'Key': \"media/chris02.png\"})))"
   ]
  },
  {
   "cell_type": "code",
   "execution_count": null,
   "id": "5f191e9c",
   "metadata": {},
   "outputs": [],
   "source": [
    "indexFace(bucketName, \"media/chris02.png\", celebrityId)"
   ]
  },
  {
   "cell_type": "code",
   "execution_count": null,
   "id": "23cf5f73",
   "metadata": {},
   "outputs": [],
   "source": [
    "display(IImage(url=s3.generate_presigned_url('get_object', Params={'Bucket': bucketName, 'Key': \"media/chris03.png\"})))"
   ]
  },
  {
   "cell_type": "code",
   "execution_count": null,
   "id": "4308895a",
   "metadata": {},
   "outputs": [],
   "source": [
    "indexFace(bucketName, \"media/chris03.png\", celebrityId)"
   ]
  },
  {
   "cell_type": "code",
   "execution_count": null,
   "id": "292cb7b6",
   "metadata": {},
   "outputs": [],
   "source": [
    "describeCollectionResponse = rekognition.describe_collection(\n",
    "    CollectionId=collectionId\n",
    ")\n",
    "display(\"FaceCount: {0}\".format(describeCollectionResponse[\"FaceCount\"]))"
   ]
  },
  {
   "cell_type": "code",
   "execution_count": null,
   "id": "d2dd5426",
   "metadata": {},
   "outputs": [],
   "source": [
    "# Indexacion de la celebridad 2\n",
    "celebrityId = \"2\"\n",
    "celebrityName = \"Kashif Imran\"\n",
    "celebrityUrl = \"http://aws.amazon.com\""
   ]
  },
  {
   "cell_type": "code",
   "execution_count": null,
   "id": "d6eb63cd",
   "metadata": {},
   "outputs": [],
   "source": [
    "addCelebrityToDynamoDB(celebrityId, celebrityName, celebrityUrl)"
   ]
  },
  {
   "cell_type": "code",
   "execution_count": null,
   "id": "b5ff6954",
   "metadata": {},
   "outputs": [],
   "source": [
    "display(IImage(url=s3.generate_presigned_url('get_object', Params={'Bucket': bucketName, 'Key': \"media/kashif01.jpg\"})))"
   ]
  },
  {
   "cell_type": "code",
   "execution_count": null,
   "id": "d205dd1b",
   "metadata": {},
   "outputs": [],
   "source": [
    "indexFace(bucketName, \"media/kashif01.jpg\", celebrityId)"
   ]
  },
  {
   "cell_type": "code",
   "execution_count": null,
   "id": "eece62bc",
   "metadata": {},
   "outputs": [],
   "source": [
    "display(IImage(url=s3.generate_presigned_url('get_object', Params={'Bucket': bucketName, 'Key': \"media/kashif02.jpg\"})))"
   ]
  },
  {
   "cell_type": "code",
   "execution_count": null,
   "id": "9c0d2717",
   "metadata": {},
   "outputs": [],
   "source": [
    "indexFace(bucketName, \"media/kashif02.jpg\", celebrityId)"
   ]
  },
  {
   "cell_type": "code",
   "execution_count": null,
   "id": "719ddfb0",
   "metadata": {},
   "outputs": [],
   "source": [
    "display(IImage(url=s3.generate_presigned_url('get_object', Params={'Bucket': bucketName, 'Key': \"media/kashif03.jpg\"})))"
   ]
  },
  {
   "cell_type": "code",
   "execution_count": null,
   "id": "1488db90",
   "metadata": {},
   "outputs": [],
   "source": [
    "indexFace(bucketName, \"media/kashif03.jpg\", celebrityId)"
   ]
  },
  {
   "cell_type": "code",
   "execution_count": null,
   "id": "548e9ee1",
   "metadata": {},
   "outputs": [],
   "source": [
    "describeCollectionResponse = rekognition.describe_collection(\n",
    "    CollectionId=collectionId\n",
    ")\n",
    "display(\"FaceCount: {0}\".format(describeCollectionResponse[\"FaceCount\"]))"
   ]
  },
  {
   "cell_type": "code",
   "execution_count": null,
   "id": "9c3b0fb5",
   "metadata": {},
   "outputs": [],
   "source": [
    "# Subimos la imagen a reconocer\n",
    "imageName='media/serverless-bytes.png'\n",
    "s3.upload_file(\n",
    "    Filename=\"resources/serverless-bytes.png\",\n",
    "    Bucket=bucketName,\n",
    "    Key=imageName,\n",
    ")"
   ]
  },
  {
   "cell_type": "code",
   "execution_count": null,
   "id": "f01ce248",
   "metadata": {},
   "outputs": [],
   "source": [
    "searchFacesResponse = rekognition.search_faces_by_image(\n",
    "    CollectionId=collectionId,\n",
    "    Image={\n",
    "        'S3Object': {\n",
    "            'Bucket': bucketName,\n",
    "            'Name': imageName,\n",
    "        }\n",
    "    },\n",
    "    MaxFaces=2,\n",
    "    FaceMatchThreshold=95\n",
    ")"
   ]
  },
  {
   "cell_type": "code",
   "execution_count": null,
   "id": "a96f8a10",
   "metadata": {},
   "outputs": [],
   "source": [
    "display(searchFacesResponse)"
   ]
  },
  {
   "cell_type": "code",
   "execution_count": null,
   "id": "dccba08c",
   "metadata": {},
   "outputs": [],
   "source": [
    "def displayWithBoundingBoxes (sourceImage, boxes):\n",
    "    colors = ((220,220,220),(230,230,230),(76,182,252),(52,194,123))\n",
    "    \n",
    "    imageLocation = 'resources/'+os.path.basename(sourceImage)\n",
    "\n",
    "    bbImage = Image.open(imageLocation)\n",
    "    draw = ImageDraw.Draw(bbImage)\n",
    "    width, height = bbImage.size\n",
    "    col = 0\n",
    "    maxcol = len(colors)\n",
    "    line= 3\n",
    "    for box in boxes:\n",
    "        x1 = int(box[1]['Left'] * width)\n",
    "        y1 = int(box[1]['Top'] * height)\n",
    "        x2 = int(box[1]['Left'] * width + box[1]['Width'] * width)\n",
    "        y2 = int(box[1]['Top'] * height + box[1]['Height']  * height)\n",
    "        \n",
    "        draw.text((x1,y1),box[0],colors[col])\n",
    "        for l in range(line):\n",
    "            draw.rectangle((x1-l,y1-l,x2+l,y2+l),outline=colors[col])\n",
    "        col = (col+1)%maxcol\n",
    "    \n",
    "    imageFormat = \"PNG\"\n",
    "    ext = sourceImage.lower()\n",
    "    if(ext.endswith('jpg') or ext.endswith('jpeg')):\n",
    "       imageFormat = 'JPEG'\n",
    "\n",
    "    bbImage.save(imageLocation,format=imageFormat)\n",
    "\n",
    "    display(bbImage)\n",
    "    \n",
    "def getDynamoDBItem(itemId):\n",
    "    ddbGetItemResponse = dynamodb.get_item(\n",
    "        Key={'id': {'S': itemId} },\n",
    "        TableName=ddbTableName\n",
    "    )\n",
    "    \n",
    "    itemToReturn = ('', '', '')\n",
    "    \n",
    "    if('Item' in ddbGetItemResponse):\n",
    "        itemToReturn = (ddbGetItemResponse['Item']['id']['S'], \n",
    "                ddbGetItemResponse['Item']['name']['S'],\n",
    "                ddbGetItemResponse['Item']['url']['S'])\n",
    "    \n",
    "    return itemToReturn"
   ]
  },
  {
   "cell_type": "code",
   "execution_count": null,
   "id": "a0bd2aab",
   "metadata": {},
   "outputs": [],
   "source": [
    "def displaySearchedFace(sfr):  \n",
    "\n",
    "    boxes = []\n",
    "    \n",
    "    if(len(sfr['FaceMatches']) > 0):\n",
    "        bb = sfbb = sfr['SearchedFaceBoundingBox']\n",
    "        eid = sfr['FaceMatches'][0]['Face']['ExternalImageId']\n",
    "        conf = sfr['FaceMatches'][0]['Similarity']\n",
    "\n",
    "        celeb = getDynamoDBItem(eid)\n",
    "\n",
    "        boxes.append((\"{0}-{1}-{2}%\".format(celeb[0], celeb[1], round(conf,2)), bb))\n",
    "\n",
    "        displayWithBoundingBoxes(imageName, boxes)\n",
    "\n",
    "displaySearchedFace(searchFacesResponse)"
   ]
  },
  {
   "cell_type": "markdown",
   "id": "673ca9cf",
   "metadata": {},
   "source": [
    "## Reconocer todas las celebridades personalizadas en la imagen"
   ]
  },
  {
   "cell_type": "code",
   "execution_count": null,
   "id": "2e8b20d3",
   "metadata": {},
   "outputs": [],
   "source": [
    "def detectFaces():\n",
    "    detectFacesResponse = rekognition.detect_faces(\n",
    "        Image={\n",
    "            'S3Object': {\n",
    "                'Bucket': bucketName,\n",
    "                'Name': imageName\n",
    "                }\n",
    "            },\n",
    "        Attributes=['DEFAULT'])\n",
    "    return detectFacesResponse"
   ]
  },
  {
   "cell_type": "code",
   "execution_count": null,
   "id": "c9832115",
   "metadata": {},
   "outputs": [],
   "source": [
    "def getFaceCrop(imageBinary, box, image_width, image_height):\n",
    "    \n",
    "    x1 = int(box['Left'] * image_width)-25\n",
    "    y1 = int(box['Top'] * image_height)-25\n",
    "    x2 = int(box['Left'] * image_width + box['Width'] * image_width)+25\n",
    "    y2 = int(box['Top'] * image_height + box['Height']  * image_height)+25\n",
    "    if x1 < 0 : x1=0\n",
    "    if y1 < 0 : y1=0\n",
    "    if x2 < 0 : x2=image_width\n",
    "    if y2 < 0 : y2=image_height \n",
    "           \n",
    "    coordinates = (x1,y1,x2,y2)\n",
    "\n",
    "    image_crop = imageBinary.crop(coordinates)\n",
    "    stream2 = BytesIO() \n",
    "    \n",
    "    iformat = \"JPEG\"\n",
    "    if(imageName.lower().endswith(\"png\")):\n",
    "        iformat = \"PNG\"\n",
    "    \n",
    "    image_crop.save(stream2,format=iformat)\n",
    "    image_region_binary = stream2.getvalue()    \n",
    "    stream2.close()\n",
    "    \n",
    "    return image_region_binary"
   ]
  },
  {
   "cell_type": "code",
   "execution_count": null,
   "id": "90519d06",
   "metadata": {},
   "outputs": [],
   "source": [
    "def recognizeFace(faceCrop):\n",
    "    searchFacesResponse = rekognition.search_faces_by_image(\n",
    "        CollectionId=collectionId,\n",
    "        Image={\n",
    "            'Bytes': faceCrop\n",
    "            },\n",
    "        MaxFaces=2,\n",
    "        FaceMatchThreshold=95\n",
    "    )\n",
    "\n",
    "    if(len(searchFacesResponse['FaceMatches']) > 0):\n",
    "        eid = searchFacesResponse['FaceMatches'][0]['Face']['ExternalImageId']\n",
    "        conf = searchFacesResponse['FaceMatches'][0]['Similarity']\n",
    "        celeb = getDynamoDBItem(eid)\n",
    "\n",
    "        return \"{0}-{1}-{2}%\".format(celeb[0], celeb[1], round(conf,2))\n",
    "    else:\n",
    "        return \"\"\n"
   ]
  },
  {
   "cell_type": "code",
   "execution_count": null,
   "id": "111a0c21",
   "metadata": {},
   "outputs": [],
   "source": [
    "def recognizeAllCustomCelebrities():\n",
    "    detectedFaces = detectFaces()\n",
    "    \n",
    "    imageLocation = 'resources/'+os.path.basename(imageName)\n",
    "    \n",
    "    imageBinary = Image.open(imageLocation)\n",
    "    width, height = imageBinary.size \n",
    "    \n",
    "    boxes = []\n",
    "    for detectedFace in detectedFaces['FaceDetails']:\n",
    "        faceCrop = getFaceCrop(imageBinary, detectedFace['BoundingBox'], width, height)\n",
    "        recognizedFace = recognizeFace(faceCrop)\n",
    "        if(recognizedFace):\n",
    "            boxes.append((recognizedFace, detectedFace['BoundingBox']))\n",
    "        else:\n",
    "            boxes.append((\"Unrecognized Face\", detectedFace['BoundingBox']))\n",
    "    displayWithBoundingBoxes(imageName, boxes)"
   ]
  },
  {
   "cell_type": "code",
   "execution_count": null,
   "id": "6c6ca827",
   "metadata": {},
   "outputs": [],
   "source": [
    "recognizeAllCustomCelebrities()"
   ]
  },
  {
   "cell_type": "code",
   "execution_count": null,
   "id": "d207b8f9",
   "metadata": {},
   "outputs": [],
   "source": []
  }
 ],
 "metadata": {
  "kernelspec": {
   "display_name": "conda_python3",
   "language": "python",
   "name": "conda_python3"
  },
  "language_info": {
   "codemirror_mode": {
    "name": "ipython",
    "version": 3
   },
   "file_extension": ".py",
   "mimetype": "text/x-python",
   "name": "python",
   "nbconvert_exporter": "python",
   "pygments_lexer": "ipython3",
   "version": "3.6.13"
  }
 },
 "nbformat": 4,
 "nbformat_minor": 5
}
