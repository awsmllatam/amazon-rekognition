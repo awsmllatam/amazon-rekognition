{
 "cells": [
  {
   "cell_type": "markdown",
   "id": "1d66c0c0",
   "metadata": {},
   "source": [
    "# Detección de objetos usando Amazon rekognition"
   ]
  },
  {
   "cell_type": "markdown",
   "id": "21d869b8",
   "metadata": {},
   "source": [
    "### Iniciamos las librerias necesarias"
   ]
  },
  {
   "cell_type": "code",
   "execution_count": null,
   "id": "b04425fc",
   "metadata": {},
   "outputs": [],
   "source": [
    "import boto3\n",
    "from IPython.display import HTML, display, Image as IImage\n",
    "from PIL import Image, ImageDraw, ImageFont\n",
    "import time\n",
    "import os"
   ]
  },
  {
   "cell_type": "code",
   "execution_count": null,
   "id": "343a36fb",
   "metadata": {},
   "outputs": [],
   "source": [
    "rekognition = boto3.client('rekognition')\n",
    "s3 = boto3.client('s3')"
   ]
  },
  {
   "cell_type": "code",
   "execution_count": null,
   "id": "e29a190b",
   "metadata": {},
   "outputs": [],
   "source": [
    "bucketName = \"{REPLACE_YOUR_BUCKET}\"\n",
    "imageName = \"media/cars.png\""
   ]
  },
  {
   "cell_type": "code",
   "execution_count": null,
   "id": "0ea61fe7",
   "metadata": {},
   "outputs": [],
   "source": [
    "s3.upload_file(\n",
    "    Filename=\"resources/cars.png\",\n",
    "    Bucket=bucketName,\n",
    "    Key=imageName,\n",
    ")"
   ]
  },
  {
   "cell_type": "code",
   "execution_count": null,
   "id": "440d046f",
   "metadata": {},
   "outputs": [],
   "source": [
    "display(IImage(url=s3.generate_presigned_url('get_object', Params={'Bucket': bucketName, 'Key': imageName})))"
   ]
  },
  {
   "cell_type": "code",
   "execution_count": null,
   "id": "c43cac01",
   "metadata": {},
   "outputs": [],
   "source": [
    "detectLabelsResponse = rekognition.detect_labels(\n",
    "    Image={\n",
    "        'S3Object': {\n",
    "            'Bucket': bucketName,\n",
    "            'Name': imageName,\n",
    "        }\n",
    "    }\n",
    ")"
   ]
  },
  {
   "cell_type": "code",
   "execution_count": null,
   "id": "63b9d9ae",
   "metadata": {},
   "outputs": [],
   "source": [
    "display(detectLabelsResponse)"
   ]
  },
  {
   "cell_type": "code",
   "execution_count": null,
   "id": "5f2bd4a9",
   "metadata": {},
   "outputs": [],
   "source": [
    "flaggedObjects = [\"Car\"]\n",
    "\n",
    "for label in detectLabelsResponse[\"Labels\"]:\n",
    "    if(label[\"Name\"] in flaggedObjects):\n",
    "        print(\"Detected unsafe object:\")\n",
    "        print(\"- {} (Confidence: {})\".format(label[\"Name\"], label[\"Confidence\"]))\n",
    "        print(\"  - Parents: {}\".format(label[\"Parents\"]))"
   ]
  },
  {
   "cell_type": "code",
   "execution_count": null,
   "id": "a0fec398",
   "metadata": {},
   "outputs": [],
   "source": [
    "def drawBoundingBoxes (sourceImage, boxes, outputImage):\n",
    "    colors = ((255,255,255),(255,255,255),(76,182,252),(52,194,123))\n",
    "    imageLocation = 'resources/'+os.path.basename(sourceImage)\n",
    "    bbImage = Image.open(imageLocation)\n",
    "    draw = ImageDraw.Draw(bbImage)\n",
    "    width, height = bbImage.size\n",
    "    col = 0\n",
    "    maxcol = len(colors)\n",
    "    line= 3\n",
    "    for box in boxes:\n",
    "        x1 = int(box[1]['Left'] * width)\n",
    "        y1 = int(box[1]['Top'] * height)\n",
    "        x2 = int(box[1]['Left'] * width + box[1]['Width'] * width)\n",
    "        y2 = int(box[1]['Top'] * height + box[1]['Height']  * height)\n",
    "        \n",
    "        draw.text((x1,y1),box[0],colors[col])\n",
    "        for l in range(line):\n",
    "            draw.rectangle((x1-l,y1-l,x2+l,y2+l),outline=colors[col])\n",
    "        col = (col+1)%maxcol\n",
    "    \n",
    "    imageFormat = \"PNG\"\n",
    "    ext = sourceImage.lower()\n",
    "    if(ext.endswith('jpg') or ext.endswith('jpeg')):\n",
    "        imageFormat = 'JPEG'\n",
    "\n",
    "    bbImage.save(outputImage,format=imageFormat)\n",
    "\n",
    "    display(bbImage)"
   ]
  },
  {
   "cell_type": "code",
   "execution_count": null,
   "id": "267c220a",
   "metadata": {},
   "outputs": [],
   "source": [
    "boxes = []\n",
    "objects = detectLabelsResponse['Labels']\n",
    "for obj in objects:\n",
    "    for einstance in obj[\"Instances\"]:\n",
    "        boxes.append ((obj['Name'], einstance['BoundingBox']))\n",
    "    \n",
    "drawBoundingBoxes(imageName, boxes, 'resources/cars2.png')"
   ]
  },
  {
   "cell_type": "markdown",
   "id": "e969a1e6",
   "metadata": {},
   "source": [
    "# Deteccion de objetos en video"
   ]
  },
  {
   "cell_type": "code",
   "execution_count": null,
   "id": "4d8ec5d5",
   "metadata": {},
   "outputs": [],
   "source": [
    "bucketName = \"temporal-bucket-max\"\n",
    "videoName = \"media/GrandTour720.mp4\""
   ]
  },
  {
   "cell_type": "code",
   "execution_count": null,
   "id": "13350465",
   "metadata": {},
   "outputs": [],
   "source": [
    "s3.upload_file(\n",
    "    Filename=\"resources/GrandTour720.mp4\",\n",
    "    Bucket=bucketName,\n",
    "    Key=videoName,\n",
    ")"
   ]
  },
  {
   "cell_type": "code",
   "execution_count": null,
   "id": "768f89be",
   "metadata": {},
   "outputs": [],
   "source": [
    "s3VideoUrl = s3.generate_presigned_url('get_object', Params={'Bucket': bucketName, 'Key': videoName})\n",
    "\n",
    "videoTag = \"<video controls='controls' autoplay width='640' height='360' name='Video' src='{0}'></video>\".format(s3VideoUrl)\n",
    "\n",
    "videoui = \"<table><tr><td style='vertical-align: top'>{}</td></tr></table>\".format(videoTag)\n",
    "\n",
    "display(HTML(videoui))"
   ]
  },
  {
   "cell_type": "code",
   "execution_count": null,
   "id": "4ef99c7e",
   "metadata": {},
   "outputs": [],
   "source": [
    "startLabelDetection = rekognition.start_label_detection(\n",
    "    Video={\n",
    "        'S3Object': {\n",
    "            'Bucket': bucketName,\n",
    "            'Name': videoName,\n",
    "        }\n",
    "    },\n",
    ")\n",
    "\n",
    "labelsJobId = startLabelDetection['JobId']\n",
    "display(\"Job Id: {0}\".format(labelsJobId))"
   ]
  },
  {
   "cell_type": "code",
   "execution_count": null,
   "id": "c99a6c0e",
   "metadata": {},
   "outputs": [],
   "source": [
    "getObjectDetection = rekognition.get_label_detection(\n",
    "    JobId=labelsJobId,\n",
    "    SortBy='TIMESTAMP'\n",
    ")\n",
    "\n",
    "while(getObjectDetection['JobStatus'] == 'IN_PROGRESS'):\n",
    "    time.sleep(5)\n",
    "    print('.', end='')\n",
    " \n",
    "    getObjectDetection = rekognition.get_label_detection(\n",
    "    JobId=labelsJobId,\n",
    "    SortBy='TIMESTAMP')\n",
    "    \n",
    "display(getObjectDetection['JobStatus'])"
   ]
  },
  {
   "cell_type": "code",
   "execution_count": null,
   "id": "a51fdd97",
   "metadata": {},
   "outputs": [],
   "source": [
    "flaggedObjectsInVideo = [\"Car\"]\n",
    "\n",
    "theObjects = {}\n",
    "\n",
    "strDetail = \"Objects detected in video<br>=======================================<br>\"\n",
    "strOverall = \"Objects in the overall video:<br>=======================================<br>\"\n",
    "\n",
    "for obj in getObjectDetection['Labels']:\n",
    "    ts = obj [\"Timestamp\"]\n",
    "    cconfidence = obj['Label'][\"Confidence\"]\n",
    "    oname = obj['Label'][\"Name\"]\n",
    "    \n",
    "    if(oname in flaggedObjectsInVideo):\n",
    "        print(\"Found flagged object at {} ms: {} (Confidence: {})\".format(ts, oname, round(cconfidence,2)))\n",
    "    \n",
    "    strDetail = strDetail + \"At {} ms: {} (Confidence: {})<br>\".format(ts, oname, round(cconfidence,2))\n",
    "    if oname in theObjects:\n",
    "        cojb = theObjects[oname]\n",
    "        theObjects[oname] = {\"Name\" : oname, \"Count\": 1+cojb[\"Count\"]}\n",
    "    else:\n",
    "        theObjects[oname] = {\"Name\" : oname, \"Count\": 1}\n",
    "\n",
    "for theObject in theObjects:\n",
    "    strOverall = strOverall + \"Name: {}, Count: {}<br>\".format(theObject, theObjects[theObject][\"Count\"])\n",
    "\n",
    "display(HTML(strOverall))"
   ]
  },
  {
   "cell_type": "code",
   "execution_count": null,
   "id": "7e61b811",
   "metadata": {},
   "outputs": [],
   "source": []
  }
 ],
 "metadata": {
  "kernelspec": {
   "display_name": "conda_python3",
   "language": "python",
   "name": "conda_python3"
  },
  "language_info": {
   "codemirror_mode": {
    "name": "ipython",
    "version": 3
   },
   "file_extension": ".py",
   "mimetype": "text/x-python",
   "name": "python",
   "nbconvert_exporter": "python",
   "pygments_lexer": "ipython3",
   "version": "3.6.13"
  }
 },
 "nbformat": 4,
 "nbformat_minor": 5
}
