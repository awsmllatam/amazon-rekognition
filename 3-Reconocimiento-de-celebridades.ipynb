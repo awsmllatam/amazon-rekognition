{
 "cells": [
  {
   "cell_type": "code",
   "execution_count": null,
   "id": "f6b01559",
   "metadata": {},
   "outputs": [],
   "source": [
    "import boto3\n",
    "from IPython.display import HTML, display, Image as IImage\n",
    "from PIL import Image, ImageDraw, ImageFont\n",
    "import time\n",
    "import os"
   ]
  },
  {
   "cell_type": "code",
   "execution_count": null,
   "id": "f4039570",
   "metadata": {},
   "outputs": [],
   "source": [
    "rekognition = boto3.client('rekognition')\n",
    "s3 = boto3.client('s3')"
   ]
  },
  {
   "cell_type": "code",
   "execution_count": null,
   "id": "dcba2d9a",
   "metadata": {},
   "outputs": [],
   "source": [
    "bucketName = \"{REPLACE_YOUR_BUCKET}\"\n",
    "imageName = \"media/GrandTourjc.png\""
   ]
  },
  {
   "cell_type": "code",
   "execution_count": null,
   "id": "f81e8af4",
   "metadata": {},
   "outputs": [],
   "source": [
    "s3.upload_file(\n",
    "    Filename=\"resources/GrandTourjc.png\",\n",
    "    Bucket=bucketName,\n",
    "    Key=imageName,\n",
    ")"
   ]
  },
  {
   "cell_type": "code",
   "execution_count": null,
   "id": "8d4cdb9d",
   "metadata": {},
   "outputs": [],
   "source": [
    "display(IImage(url=s3.generate_presigned_url('get_object', Params={'Bucket': bucketName, 'Key': imageName})))"
   ]
  },
  {
   "cell_type": "code",
   "execution_count": null,
   "id": "97014ff2",
   "metadata": {},
   "outputs": [],
   "source": [
    "recognizeCelebritiesResponse = rekognition.recognize_celebrities(\n",
    "    Image={\n",
    "        'S3Object': {\n",
    "            'Bucket': bucketName,\n",
    "            'Name': imageName,\n",
    "        }\n",
    "    }\n",
    ")"
   ]
  },
  {
   "cell_type": "code",
   "execution_count": null,
   "id": "4ea4061d",
   "metadata": {},
   "outputs": [],
   "source": [
    "display(recognizeCelebritiesResponse)"
   ]
  },
  {
   "cell_type": "code",
   "execution_count": null,
   "id": "976947fe",
   "metadata": {},
   "outputs": [],
   "source": [
    "def drawBoundingBoxes (sourceImage, boxes, outputImage):\n",
    "    colors = ((255,255,255),(255,255,255),(76,182,252),(52,194,123))\n",
    "    \n",
    "    imageLocation = 'resources/'+os.path.basename(sourceImage)\n",
    "\n",
    "    bbImage = Image.open(imageLocation)\n",
    "    draw = ImageDraw.Draw(bbImage)\n",
    "    width, height = bbImage.size\n",
    "    col = 0\n",
    "    maxcol = len(colors)\n",
    "    line= 3\n",
    "    for box in boxes:\n",
    "        x1 = int(box[1]['Left'] * width)\n",
    "        y1 = int(box[1]['Top'] * height)\n",
    "        x2 = int(box[1]['Left'] * width + box[1]['Width'] * width)\n",
    "        y2 = int(box[1]['Top'] * height + box[1]['Height']  * height)\n",
    "        \n",
    "        draw.text((x1,y1),box[0],colors[col])\n",
    "        for l in range(line):\n",
    "            draw.rectangle((x1-l,y1-l,x2+l,y2+l),outline=colors[col])\n",
    "        col = (col+1)%maxcol\n",
    "    \n",
    "    imageFormat = \"PNG\"\n",
    "    ext = sourceImage.lower()\n",
    "    if(ext.endswith('jpg') or ext.endswith('jpeg')):\n",
    "        imageFormat = 'JPEG'\n",
    "\n",
    "    bbImage.save(outputImage,format=imageFormat)\n",
    "\n",
    "    display(bbImage)"
   ]
  },
  {
   "cell_type": "code",
   "execution_count": null,
   "id": "11e785ca",
   "metadata": {},
   "outputs": [],
   "source": [
    "boxes = []\n",
    "celebrities = recognizeCelebritiesResponse['CelebrityFaces']\n",
    "for celebrity in celebrities:\n",
    "    boxes.append ((celebrity['Name'], celebrity['Face']['BoundingBox']))\n",
    "    \n",
    "drawBoundingBoxes(imageName, boxes, 'resources/GrandTourjc2.png')"
   ]
  },
  {
   "cell_type": "markdown",
   "id": "b744673e",
   "metadata": {},
   "source": [
    "# Reconociendo celebridades en video"
   ]
  },
  {
   "cell_type": "code",
   "execution_count": null,
   "id": "a56cb522",
   "metadata": {},
   "outputs": [],
   "source": [
    "bucketName = \"temporal-bucket-max\"\n",
    "videoName = \"media/GrandTour720.mp4\""
   ]
  },
  {
   "cell_type": "code",
   "execution_count": null,
   "id": "efb12484",
   "metadata": {},
   "outputs": [],
   "source": [
    "s3.upload_file(\n",
    "    Filename=\"resources/GrandTour720.mp4\",\n",
    "    Bucket=bucketName,\n",
    "    Key=videoName,\n",
    ")"
   ]
  },
  {
   "cell_type": "code",
   "execution_count": null,
   "id": "a6c55f7f",
   "metadata": {},
   "outputs": [],
   "source": [
    "mySession = boto3.session.Session()\n",
    "awsRegion = mySession.region_name"
   ]
  },
  {
   "cell_type": "code",
   "execution_count": null,
   "id": "9cd17d10",
   "metadata": {},
   "outputs": [],
   "source": [
    "s3VideoUrl = s3.generate_presigned_url('get_object', Params={'Bucket': bucketName, 'Key': videoName})\n",
    "\n",
    "videoTag = \"<video controls='controls' autoplay width='640' height='360' name='Video' src='{0}'></video>\".format(s3VideoUrl)\n",
    "\n",
    "videoui = \"<table><tr><td style='vertical-align: top'>{}</td></tr></table>\".format(videoTag)\n",
    "\n",
    "display(HTML(videoui))"
   ]
  },
  {
   "cell_type": "code",
   "execution_count": null,
   "id": "877cbc2b",
   "metadata": {},
   "outputs": [],
   "source": [
    "startCelebrityRekognition = rekognition.start_celebrity_recognition(\n",
    "    Video={\n",
    "        'S3Object': {\n",
    "            'Bucket': bucketName,\n",
    "            'Name': videoName,\n",
    "        }\n",
    "    },\n",
    ")\n",
    "\n",
    "celebrityJobId = startCelebrityRekognition['JobId']\n",
    "display(\"Job Id: {0}\".format(celebrityJobId))"
   ]
  },
  {
   "cell_type": "code",
   "execution_count": null,
   "id": "c89bfb0e",
   "metadata": {},
   "outputs": [],
   "source": [
    "getCelebrityRecognition = rekognition.get_celebrity_recognition(\n",
    "    JobId=celebrityJobId,\n",
    "    SortBy='TIMESTAMP'\n",
    ")\n",
    "\n",
    "while(getCelebrityRecognition['JobStatus'] == 'IN_PROGRESS'):\n",
    "    time.sleep(5)\n",
    "    print('.', end='')\n",
    " \n",
    "    getCelebrityRecognition = rekognition.get_celebrity_recognition(\n",
    "    JobId=celebrityJobId,\n",
    "    SortBy='TIMESTAMP')\n",
    "    \n",
    "display(getCelebrityRecognition['JobStatus'])"
   ]
  },
  {
   "cell_type": "code",
   "execution_count": null,
   "id": "d2a975d9",
   "metadata": {},
   "outputs": [],
   "source": [
    "theCelebs = {}\n",
    "\n",
    "strDetail = \"Celebrites detected in video<br>=======================================<br>\"\n",
    "strOverall = \"Celebrities in the overall video:<br>=======================================<br>\"\n",
    "\n",
    "for celebrity in getCelebrityRecognition['Celebrities']:\n",
    "    if 'Celebrity' in celebrity :\n",
    "        cconfidence = celebrity[\"Celebrity\"][\"Confidence\"]\n",
    "        if(cconfidence > 95):\n",
    "            ts = celebrity [\"Timestamp\"]\n",
    "            cname = celebrity[\"Celebrity\"][\"Name\"]\n",
    "            strDetail = strDetail + \"At {} ms: {} (Confidence: {})<br>\".format(ts, cname, round(cconfidence,2))\n",
    "            if not cname in theCelebs:\n",
    "                theCelebs[cname] = cname\n",
    "            \n",
    "for theCeleb in theCelebs:\n",
    "    strOverall = strOverall + \"Name: {}<br>\".format(theCeleb)\n",
    "\n",
    "display(HTML(strOverall))"
   ]
  },
  {
   "cell_type": "code",
   "execution_count": null,
   "id": "b16d1880",
   "metadata": {},
   "outputs": [],
   "source": []
  }
 ],
 "metadata": {
  "kernelspec": {
   "display_name": "conda_python3",
   "language": "python",
   "name": "conda_python3"
  },
  "language_info": {
   "codemirror_mode": {
    "name": "ipython",
    "version": 3
   },
   "file_extension": ".py",
   "mimetype": "text/x-python",
   "name": "python",
   "nbconvert_exporter": "python",
   "pygments_lexer": "ipython3",
   "version": "3.6.13"
  }
 },
 "nbformat": 4,
 "nbformat_minor": 5
}
