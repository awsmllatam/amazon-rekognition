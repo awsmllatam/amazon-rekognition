{
 "cells": [
  {
   "cell_type": "markdown",
   "id": "c0a75e5c",
   "metadata": {},
   "source": [
    "# Detección de equipos de protección personal con Amazon Rekognition"
   ]
  },
  {
   "cell_type": "code",
   "execution_count": null,
   "id": "95bd2bc7",
   "metadata": {},
   "outputs": [],
   "source": [
    "import boto3\n",
    "from IPython.display import HTML, display, Image as IImage\n",
    "from PIL import Image, ImageDraw, ExifTags, ImageColor\n",
    "import json\n",
    "import cv2\n",
    "import math\n",
    "import os\n",
    "import io"
   ]
  },
  {
   "cell_type": "code",
   "execution_count": null,
   "id": "b1ee9f48",
   "metadata": {},
   "outputs": [],
   "source": [
    "rekognition = boto3.client('rekognition')\n",
    "s3 = boto3.client('s3')"
   ]
  },
  {
   "cell_type": "code",
   "execution_count": null,
   "id": "af218fac",
   "metadata": {},
   "outputs": [],
   "source": [
    "bucketName = \"{REPLACE_YOUR_BUCKET}\"\n",
    "imageName = \"media/ppe-image-group.jpg\""
   ]
  },
  {
   "cell_type": "code",
   "execution_count": null,
   "id": "a4c40ca9",
   "metadata": {},
   "outputs": [],
   "source": [
    "s3.upload_file(\n",
    "    Filename=\"resources/ppe-image-group.jpg\",\n",
    "    Bucket=bucketName,\n",
    "    Key=imageName,\n",
    ")"
   ]
  },
  {
   "cell_type": "code",
   "execution_count": null,
   "id": "30469f61",
   "metadata": {},
   "outputs": [],
   "source": [
    "display(IImage(url=s3.generate_presigned_url('get_object', Params={'Bucket': bucketName, 'Key': imageName})))"
   ]
  },
  {
   "cell_type": "code",
   "execution_count": null,
   "id": "8470a0c1",
   "metadata": {},
   "outputs": [],
   "source": [
    "detectPPEResponse = rekognition.detect_protective_equipment(\n",
    "        Image={\n",
    "            'S3Object': {\n",
    "                'Bucket': bucketName,\n",
    "                'Name': imageName\n",
    "            }\n",
    "        },\n",
    "        SummarizationAttributes={\n",
    "            'MinConfidence': 90,\n",
    "            'RequiredEquipmentTypes': [\n",
    "                'FACE_COVER',\n",
    "                'HEAD_COVER',\n",
    "                'HAND_COVER',\n",
    "            ]\n",
    "        }\n",
    "    )"
   ]
  },
  {
   "cell_type": "code",
   "execution_count": null,
   "id": "7f8ddba6",
   "metadata": {},
   "outputs": [],
   "source": [
    "display(detectPPEResponse)"
   ]
  },
  {
   "cell_type": "code",
   "execution_count": null,
   "id": "0af5af1f",
   "metadata": {},
   "outputs": [],
   "source": [
    "detectPPEResponse = rekognition.detect_protective_equipment(\n",
    "        Image={\n",
    "            'S3Object': {\n",
    "                'Bucket': bucketName,\n",
    "                'Name': imageName\n",
    "            }\n",
    "        },\n",
    "        SummarizationAttributes={\n",
    "            'MinConfidence': 90,\n",
    "            'RequiredEquipmentTypes': [\n",
    "                'FACE_COVER',\n",
    "                'HEAD_COVER',\n",
    "                #'HAND_COVER',\n",
    "            ]\n",
    "        }\n",
    "    )"
   ]
  },
  {
   "cell_type": "code",
   "execution_count": null,
   "id": "3bfdb3b8",
   "metadata": {},
   "outputs": [],
   "source": [
    "display(detectPPEResponse)"
   ]
  },
  {
   "cell_type": "code",
   "execution_count": null,
   "id": "6c82ffe1",
   "metadata": {},
   "outputs": [],
   "source": [
    "def detect_ppe(sourceImage, confidence):\n",
    "\n",
    "    fill_green='#00d400'\n",
    "    fill_red='#ff0000'\n",
    "    fill_yellow='#ffff00'\n",
    "    line_width=3\n",
    "    \n",
    "    imageLocation = 'resources/'+os.path.basename(sourceImage)\n",
    "\n",
    "    image = Image.open(open(imageLocation,'rb'))\n",
    "    stream = io.BytesIO()\n",
    "    image.save(stream, format=image.format)    \n",
    "    image_binary = stream.getvalue()\n",
    "    imgWidth, imgHeight = image.size  \n",
    "    draw = ImageDraw.Draw(image)  \n",
    "    \n",
    "\n",
    "    for person in detectPPEResponse['Persons']:\n",
    "        \n",
    "        found_mask=False\n",
    "\n",
    "        for body_part in person['BodyParts']:\n",
    "            ppe_items = body_part['EquipmentDetections']\n",
    "                 \n",
    "            for ppe_item in ppe_items:\n",
    "                if ppe_item['Type'] == 'FACE_COVER':\n",
    "                    fill_color=fill_green\n",
    "                    found_mask=True\n",
    "                    if ppe_item['CoversBodyPart']['Value'] == False:\n",
    "                        fill_color=fill='#ff0000'\n",
    "                    box = ppe_item['BoundingBox']\n",
    "                    left = imgWidth * box['Left']\n",
    "                    top = imgHeight * box['Top']\n",
    "                    width = imgWidth * box['Width']\n",
    "                    height = imgHeight * box['Height']\n",
    "                    points = (\n",
    "                            (left,top),\n",
    "                            (left + width, top),\n",
    "                            (left + width, top + height),\n",
    "                            (left , top + height),\n",
    "                            (left, top)\n",
    "                        )\n",
    "                    draw.line(points, fill=fill_color, width=line_width)\n",
    "     \n",
    "                    if ppe_item['CoversBodyPart']['Confidence'] < confidence:\n",
    "                        offset=line_width+ line_width \n",
    "                        points = (\n",
    "                                    (left+offset,top + offset),\n",
    "                                    (left + width-offset, top+offset),\n",
    "                                    ((left) + (width-offset), (top-offset) + (height)),\n",
    "                                    (left+ offset , (top) + (height -offset)),\n",
    "                                    (left + offset, top + offset)\n",
    "                                )\n",
    "                        draw.line(points, fill=fill_yellow, width=line_width)\n",
    "                \n",
    "        if found_mask==False:\n",
    "            box = person['BoundingBox']\n",
    "            left = imgWidth * box['Left']\n",
    "            top = imgHeight * box['Top']\n",
    "            width = imgWidth * box['Width']\n",
    "            height = imgHeight * box['Height']\n",
    "            points = (\n",
    "                (left,top),\n",
    "                (left + width, top),\n",
    "                (left + width, top + height),\n",
    "                (left , top + height),\n",
    "                (left, top)\n",
    "                )\n",
    "            draw.line(points, fill=fill_red, width=line_width)\n",
    "\n",
    "    display(image)"
   ]
  },
  {
   "cell_type": "code",
   "execution_count": null,
   "id": "a76b47e1",
   "metadata": {},
   "outputs": [],
   "source": [
    "confidence=80 # confidence if the bodypart is covered by the particular PPE \n",
    "detect_ppe(imageName, confidence)"
   ]
  },
  {
   "cell_type": "code",
   "execution_count": null,
   "id": "521ea792",
   "metadata": {},
   "outputs": [],
   "source": []
  }
 ],
 "metadata": {
  "kernelspec": {
   "display_name": "conda_python3",
   "language": "python",
   "name": "conda_python3"
  },
  "language_info": {
   "codemirror_mode": {
    "name": "ipython",
    "version": 3
   },
   "file_extension": ".py",
   "mimetype": "text/x-python",
   "name": "python",
   "nbconvert_exporter": "python",
   "pygments_lexer": "ipython3",
   "version": "3.6.13"
  }
 },
 "nbformat": 4,
 "nbformat_minor": 5
}
